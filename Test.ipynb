{
 "cells": [
  {
   "cell_type": "code",
   "execution_count": 1,
   "id": "640fc28f-77f5-455f-8303-e3f866f89f86",
   "metadata": {},
   "outputs": [],
   "source": [
    "numbers = [2, 6, 3, 9, 8, 5, 7, 1, 9, 6, 4]"
   ]
  },
  {
   "cell_type": "code",
   "execution_count": 2,
   "id": "25f374b2-e028-4fab-8fa4-3d1c36420a8c",
   "metadata": {},
   "outputs": [],
   "source": [
    "result = []"
   ]
  },
  {
   "cell_type": "code",
   "execution_count": 3,
   "id": "e117d1fe-c9c2-4ac0-be5e-6632b6ac5dce",
   "metadata": {},
   "outputs": [],
   "source": [
    "index = 0"
   ]
  },
  {
   "cell_type": "code",
   "execution_count": 6,
   "id": "097293ef-01a6-41e6-a553-86d339ee15a8",
   "metadata": {},
   "outputs": [
    {
     "name": "stdout",
     "output_type": "stream",
     "text": [
      "[2, 3, 8, 7, 9, 4]\n"
     ]
    }
   ],
   "source": [
    "while index < len(numbers):\n",
    "    result.append(numbers[index])\n",
    "    index += 2\n",
    "print (result)"
   ]
  },
  {
   "cell_type": "code",
   "execution_count": null,
   "id": "0bd804bb-cda4-455b-ab87-d34316bcd14d",
   "metadata": {},
   "outputs": [],
   "source": []
  },
  {
   "cell_type": "code",
   "execution_count": null,
   "id": "a52e209e-684c-4a01-a59a-f89bafa4f704",
   "metadata": {},
   "outputs": [],
   "source": []
  }
 ],
 "metadata": {
  "kernelspec": {
   "display_name": "Python 3 (ipykernel)",
   "language": "python",
   "name": "python3"
  },
  "language_info": {
   "codemirror_mode": {
    "name": "ipython",
    "version": 3
   },
   "file_extension": ".py",
   "mimetype": "text/x-python",
   "name": "python",
   "nbconvert_exporter": "python",
   "pygments_lexer": "ipython3",
   "version": "3.13.0"
  }
 },
 "nbformat": 4,
 "nbformat_minor": 5
}
