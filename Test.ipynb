{
 "cells": [
  {
   "cell_type": "code",
   "execution_count": 1,
   "id": "a52e209e-684c-4a01-a59a-f89bafa4f704",
   "metadata": {},
   "outputs": [],
   "source": [
    "test = 'abcabc'"
   ]
  },
  {
   "cell_type": "code",
   "execution_count": 13,
   "id": "3c9df5b8-da83-434c-9384-88ca66712fe6",
   "metadata": {},
   "outputs": [],
   "source": [
    "first = test.find('b')"
   ]
  },
  {
   "cell_type": "code",
   "execution_count": 14,
   "id": "9d866ee5-2fd8-4315-8134-5688726f7c3d",
   "metadata": {},
   "outputs": [
    {
     "data": {
      "text/plain": [
       "1"
      ]
     },
     "execution_count": 14,
     "metadata": {},
     "output_type": "execute_result"
    }
   ],
   "source": [
    "first"
   ]
  },
  {
   "cell_type": "code",
   "execution_count": 18,
   "id": "002766a9-baef-44ca-a12d-ec69f11e1a55",
   "metadata": {},
   "outputs": [],
   "source": [
    "second = test.find('b', first + 1)"
   ]
  },
  {
   "cell_type": "code",
   "execution_count": 19,
   "id": "b8daef26-7b48-49cf-9c32-e4cc7cc79a30",
   "metadata": {},
   "outputs": [
    {
     "data": {
      "text/plain": [
       "4"
      ]
     },
     "execution_count": 19,
     "metadata": {},
     "output_type": "execute_result"
    }
   ],
   "source": [
    "second"
   ]
  },
  {
   "cell_type": "code",
   "execution_count": 20,
   "id": "f379c793-84e3-4478-a73f-739ab900ec85",
   "metadata": {},
   "outputs": [],
   "source": [
    "third = test.find('b', second + 1)"
   ]
  },
  {
   "cell_type": "code",
   "execution_count": 21,
   "id": "c0b6ec84-7c8d-46ef-989a-9c506cfcbc35",
   "metadata": {},
   "outputs": [
    {
     "data": {
      "text/plain": [
       "-1"
      ]
     },
     "execution_count": 21,
     "metadata": {},
     "output_type": "execute_result"
    }
   ],
   "source": [
    "third"
   ]
  },
  {
   "cell_type": "code",
   "execution_count": 25,
   "id": "40147630-69d0-4647-a8e0-462546f962d2",
   "metadata": {},
   "outputs": [],
   "source": [
    "third = test.find('b', (test.find('b', test.find('b') + 1) + 1))"
   ]
  },
  {
   "cell_type": "code",
   "execution_count": 26,
   "id": "4b80e1bb-325c-4b28-9a84-62467f8d2da0",
   "metadata": {},
   "outputs": [
    {
     "data": {
      "text/plain": [
       "-1"
      ]
     },
     "execution_count": 26,
     "metadata": {},
     "output_type": "execute_result"
    }
   ],
   "source": [
    "third"
   ]
  },
  {
   "cell_type": "code",
   "execution_count": 27,
   "id": "bc1bbfb0-02a4-4fed-85a2-b5af18b9f588",
   "metadata": {},
   "outputs": [],
   "source": [
    "test = 'axbxcdxex'"
   ]
  },
  {
   "cell_type": "code",
   "execution_count": 30,
   "id": "904ecfce-f24f-4f25-972b-2430a93d13da",
   "metadata": {},
   "outputs": [],
   "source": [
    "third = test.find('x', (test.find('x', test.find('x') + 1) + 1))"
   ]
  },
  {
   "cell_type": "code",
   "execution_count": 31,
   "id": "cfa0d855-4b4f-4e57-a11a-dd750ded4a95",
   "metadata": {},
   "outputs": [
    {
     "data": {
      "text/plain": [
       "6"
      ]
     },
     "execution_count": 31,
     "metadata": {},
     "output_type": "execute_result"
    }
   ],
   "source": [
    "third"
   ]
  },
  {
   "cell_type": "code",
   "execution_count": null,
   "id": "eeb3347d-f21a-42bd-92e3-5139a80ea34e",
   "metadata": {},
   "outputs": [],
   "source": []
  }
 ],
 "metadata": {
  "kernelspec": {
   "display_name": "Python 3 (ipykernel)",
   "language": "python",
   "name": "python3"
  },
  "language_info": {
   "codemirror_mode": {
    "name": "ipython",
    "version": 3
   },
   "file_extension": ".py",
   "mimetype": "text/x-python",
   "name": "python",
   "nbconvert_exporter": "python",
   "pygments_lexer": "ipython3",
   "version": "3.13.0"
  }
 },
 "nbformat": 4,
 "nbformat_minor": 5
}
